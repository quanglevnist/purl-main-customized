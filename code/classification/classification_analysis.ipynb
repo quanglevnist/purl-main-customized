{
 "cells": [
  {
   "cell_type": "code",
   "execution_count": 1,
   "metadata": {},
   "outputs": [],
   "source": [
    "import pandas as pd\n",
    "from tqdm.auto import tqdm\n",
    "import os \n",
    "import json\n",
    "import numpy as np"
   ]
  },
  {
   "cell_type": "code",
   "execution_count": 2,
   "metadata": {},
   "outputs": [
    {
     "data": {
      "text/plain": [
       "'/home/smunir/.conda/envs/querygraph/lib/python3.9/site-packages/matplotlib/mpl-data/fonts/ttf/DejaVuSerif.ttf'"
      ]
     },
     "execution_count": 2,
     "metadata": {},
     "output_type": "execute_result"
    }
   ],
   "source": [
    "# plot the data\n",
    "import seaborn as sns\n",
    "import scienceplots\n",
    "import matplotlib.pyplot as plt\n",
    "\n",
    "tex_fonts = {\n",
    "    # Use LaTeX to write all text\n",
    "    \"text.usetex\": True,\n",
    "    \"font.family\": \"serif\",\n",
    "    # Use 10pt font in plots, to match 10pt font in document\n",
    "    \"axes.labelsize\": 12,\n",
    "    \"font.size\": 12,\n",
    "    # Make the legend/label fonts a little smaller\n",
    "    \"legend.fontsize\": 6,\n",
    "    \"xtick.labelsize\": 8,\n",
    "    \"ytick.labelsize\": 8\n",
    "}\n",
    "\n",
    "plt.style.use(['science', 'nature'])\n",
    "plt.rcParams.update(tex_fonts)\n",
    "\n",
    "import matplotlib.font_manager\n",
    "\n",
    "fm = matplotlib.font_manager.json_load(\"/home/smunir/.cache/matplotlib/fontlist-v330.json\")\n",
    "\n",
    "fm.findfont(\"serif\", rebuild_if_missing=False)"
   ]
  },
  {
   "attachments": {},
   "cell_type": "markdown",
   "metadata": {},
   "source": [
    "# Calculate average accuracy scores"
   ]
  },
  {
   "cell_type": "code",
   "execution_count": 3,
   "metadata": {},
   "outputs": [
    {
     "name": "stdout",
     "output_type": "stream",
     "text": [
      "['\\n', 'Accuracy score: 98.754%\\n', 'Precision score: binary 98.383%\\n', 'Recall score: binary 99.037%\\n', 'Precision score: micro 98.754%\\n', 'Recall score: micro 98.754%\\n', 'Precision score: macro 98.742%\\n', 'Recall score: macro 98.764%\\n', '\\n', 'Accuracy score: 98.525%\\n', 'Precision score: binary 98.602%\\n', 'Recall score: binary 98.426%\\n', 'Precision score: micro 98.525%\\n', 'Recall score: micro 98.525%\\n', 'Precision score: macro 98.526%\\n', 'Recall score: macro 98.524%\\n', '\\n', 'Accuracy score: 99.021%\\n', 'Precision score: binary 98.746%\\n', 'Recall score: binary 99.275%\\n', 'Precision score: micro 99.021%\\n', 'Recall score: micro 99.021%\\n', 'Precision score: macro 99.019%\\n', 'Recall score: macro 99.024%\\n', '\\n', 'Accuracy score: 98.733%\\n', 'Precision score: binary 98.772%\\n', 'Recall score: binary 98.843%\\n', 'Precision score: micro 98.733%\\n', 'Recall score: micro 98.733%\\n', 'Precision score: macro 98.73%\\n', 'Recall score: macro 98.725%\\n', '\\n', 'Accuracy score: 99.033%\\n', 'Precision score: binary 98.834%\\n', 'Recall score: binary 99.225%\\n', 'Precision score: micro 99.033%\\n', 'Recall score: micro 99.033%\\n', 'Precision score: macro 99.033%\\n', 'Recall score: macro 99.034%\\n', '\\n', 'Accuracy score: 98.935%\\n', 'Precision score: binary 98.609%\\n', 'Recall score: binary 99.244%\\n', 'Precision score: micro 98.935%\\n', 'Recall score: micro 98.935%\\n', 'Precision score: macro 98.933%\\n', 'Recall score: macro 98.939%\\n', '\\n', 'Accuracy score: 98.458%\\n', 'Precision score: binary 98.564%\\n', 'Recall score: binary 98.424%\\n', 'Precision score: micro 98.458%\\n', 'Recall score: micro 98.458%\\n', 'Precision score: macro 98.455%\\n', 'Recall score: macro 98.459%\\n', '\\n', 'Accuracy score: 98.633%\\n', 'Precision score: binary 98.736%\\n', 'Recall score: binary 98.619%\\n', 'Precision score: micro 98.633%\\n', 'Recall score: micro 98.633%\\n', 'Precision score: macro 98.629%\\n', 'Recall score: macro 98.633%\\n', '\\n', 'Accuracy score: 98.676%\\n', 'Precision score: binary 98.422%\\n', 'Recall score: binary 98.953%\\n', 'Precision score: micro 98.676%\\n', 'Recall score: micro 98.676%\\n', 'Precision score: macro 98.679%\\n', 'Recall score: macro 98.675%\\n', '\\n', 'Accuracy score: 98.71%\\n', 'Precision score: binary 98.565%\\n', 'Recall score: binary 98.691%\\n', 'Precision score: micro 98.71%\\n', 'Recall score: micro 98.71%\\n', 'Precision score: macro 98.702%\\n', 'Recall score: macro 98.709%\\n']\n",
      "Average accuracy: 98.74780000000001\n",
      "Average precision: 98.6233\n",
      "Average recall: 98.87370000000001\n"
     ]
    }
   ],
   "source": [
    "RESULT_DIR = \"results/20k-run-6-19-23\"\n",
    "\n",
    "with open(os.path.join(RESULT_DIR, \"accuracy\")) as f:\n",
    "    lines = f.readlines()\n",
    "    print(lines)\n",
    "\n",
    "    total_accuracy = 0\n",
    "    total_precision = 0\n",
    "    total_recall = 0\n",
    "    count = 0\n",
    "    for line in lines:\n",
    "        accuracy = 0\n",
    "        precision = 0\n",
    "        recall = 0\n",
    "        if \"Accuracy\" in line:\n",
    "            accuracy = line.split(\":\")[1].strip()\n",
    "        elif \"Precision\" in line and 'binary' in line:\n",
    "            precision = line.split(\":\")[1].split(' ')[2].strip()\n",
    "        elif \"Recall\" in line and 'binary' in line:\n",
    "            recall = line.split(\":\")[1].split(' ')[2].strip()\n",
    "        \n",
    "        if accuracy != 0:\n",
    "            total_accuracy += float(accuracy.replace('%', ''))\n",
    "            count += 1\n",
    "        if precision != 0:\n",
    "            total_precision += float(precision.replace('%', ''))\n",
    "        if recall != 0:\n",
    "            total_recall += float(recall.replace('%', ''))\n",
    "        \n",
    "\n",
    "    print(f\"Average accuracy: {total_accuracy/count}\")\n",
    "    print(f\"Average precision: {total_precision/count}\")\n",
    "    print(f\"Average recall: {total_recall/count}\")"
   ]
  },
  {
   "cell_type": "code",
   "execution_count": 4,
   "metadata": {},
   "outputs": [],
   "source": [
    "df_labeled = pd.read_csv('results/20k-run-6-19-23/labelled_results.csv')"
   ]
  },
  {
   "cell_type": "code",
   "execution_count": 5,
   "metadata": {},
   "outputs": [
    {
     "name": "stderr",
     "output_type": "stream",
     "text": [
      "/tmp/ipykernel_453481/2340170461.py:2: UserWarning: Boolean Series key will be reindexed to match DataFrame index.\n",
      "  count, bins_negative = np.histogram(df_labeled[df_labeled.num_exfil < 100][df_labeled.label == 'Negative'].num_exfil, 20)\n",
      "/tmp/ipykernel_453481/2340170461.py:7: UserWarning: Boolean Series key will be reindexed to match DataFrame index.\n",
      "  count, bins_positive = np.histogram(df_labeled[df_labeled.num_exfil < 100][df_labeled.label == 'Positive'].num_exfil, 20)\n"
     ]
    },
    {
     "data": {
      "image/png": "[encoded data removed]",
      "text/plain": [
       "<Figure size 330x250 with 1 Axes>"
      ]
     },
     "metadata": {},
     "output_type": "display_data"
    }
   ],
   "source": [
    "# plt.figure(figsize=(8, 6))\n",
    "count, bins_negative = np.histogram(df_labeled[df_labeled.num_exfil < 100][df_labeled.label == 'Negative'].num_exfil, 20)\n",
    "pdf_negative = count / sum(count)\n",
    "cdf_negative = np.cumsum(pdf_negative)\n",
    "plt.plot(bins_negative[1:], cdf_negative, label=\"Non-ATS\", color='green')\n",
    "\n",
    "count, bins_positive = np.histogram(df_labeled[df_labeled.num_exfil < 100][df_labeled.label == 'Positive'].num_exfil, 20)\n",
    "pdf_positive = count / sum(count)\n",
    "cdf_positive = np.cumsum(pdf_positive)\n",
    "plt.plot(bins_positive[1:], cdf_positive, label=\"ATS\", color='red')\n",
    "plt.legend()\n",
    "plt.xlabel(\"Number of Exfiltrations\")\n",
    "plt.ylabel(\"CDF\")\n",
    "plt.savefig(\"num_exfiltrations_cdf.pdf\", dpi=300, bbox_inches='tight')"
   ]
  },
  {
   "cell_type": "code",
   "execution_count": 55,
   "metadata": {},
   "outputs": [
    {
     "data": {
      "text/plain": [
       "count    61554.000000\n",
       "mean         7.403093\n",
       "std         20.563207\n",
       "min          0.000000\n",
       "25%          1.000000\n",
       "50%          3.000000\n",
       "75%          6.000000\n",
       "max       1939.000000\n",
       "Name: num_exfil, dtype: float64"
      ]
     },
     "execution_count": 55,
     "metadata": {},
     "output_type": "execute_result"
    }
   ],
   "source": [
    "df_labeled[df_labeled.label == 'Positive'].num_exfil.describe()"
   ]
  },
  {
   "cell_type": "code",
   "execution_count": 57,
   "metadata": {},
   "outputs": [
    {
     "data": {
      "text/plain": [
       "count    772266.000000\n",
       "mean          0.061619\n",
       "std           1.419115\n",
       "min           0.000000\n",
       "25%           0.000000\n",
       "50%           0.000000\n",
       "75%           0.000000\n",
       "max         386.000000\n",
       "Name: num_exfil, dtype: float64"
      ]
     },
     "execution_count": 57,
     "metadata": {},
     "output_type": "execute_result"
    }
   ],
   "source": [
    "df_labeled[df_labeled.label == 'Negative'].num_exfil.describe()"
   ]
  },
  {
   "cell_type": "code",
   "execution_count": 6,
   "metadata": {},
   "outputs": [
    {
     "data": {
      "text/plain": [
       "count    61554.000000\n",
       "mean         3.589649\n",
       "std          0.580914\n",
       "min         -0.000000\n",
       "25%          3.184184\n",
       "50%          3.641604\n",
       "75%          3.829240\n",
       "max          5.815984\n",
       "Name: shannon_entropy, dtype: float64"
      ]
     },
     "execution_count": 6,
     "metadata": {},
     "output_type": "execute_result"
    }
   ],
   "source": [
    "df_labeled[df_labeled.label == 'Positive'].shannon_entropy.describe()"
   ]
  },
  {
   "cell_type": "code",
   "execution_count": 6,
   "metadata": {},
   "outputs": [
    {
     "data": {
      "image/png": "[encoded data removed]",
      "text/plain": [
       "<Figure size 330x250 with 1 Axes>"
      ]
     },
     "metadata": {},
     "output_type": "display_data"
    }
   ],
   "source": [
    "# plt.figure(figsize=(8, 6))\n",
    "count, bins_negative = np.histogram(df_labeled[df_labeled.label == 'Negative'].shannon_entropy, 50)\n",
    "pdf_negative = count / sum(count)\n",
    "cdf_negative = np.cumsum(pdf_negative)\n",
    "plt.plot(bins_negative[1:], cdf_negative, label=\"Non-ATS\", color='green')\n",
    "\n",
    "count, bins_positive = np.histogram(df_labeled[df_labeled.label == 'Positive'].shannon_entropy, 50)\n",
    "pdf_positive = count / sum(count)\n",
    "cdf_positive = np.cumsum(pdf_positive)\n",
    "plt.plot(bins_positive[1:], cdf_positive, label=\"ATS\", color='red')\n",
    "plt.legend()\n",
    "plt.xlabel(\"Shannon Entropy\")\n",
    "plt.ylabel(\"CDF\")\n",
    "plt.savefig(\"shannon_entropy_cdf.pdf\", dpi=300, bbox_inches='tight')"
   ]
  },
  {
   "cell_type": "code",
   "execution_count": 7,
   "metadata": {},
   "outputs": [],
   "source": [
    "count, bins_negative = np.histogram(df_labeled[df_labeled.label == 'Negative'].shannon_entropy, 50)\n",
    "pdf_negative = count / sum(count)\n",
    "cdf_negative = np.cumsum(pdf_negative)"
   ]
  },
  {
   "cell_type": "code",
   "execution_count": 21,
   "metadata": {},
   "outputs": [
    {
     "data": {
      "text/plain": [
       "0.7041718786014146"
      ]
     },
     "execution_count": 21,
     "metadata": {},
     "output_type": "execute_result"
    }
   ],
   "source": [
    "cdf_negative[24]"
   ]
  },
  {
   "cell_type": "code",
   "execution_count": 22,
   "metadata": {},
   "outputs": [
    {
     "data": {
      "text/plain": [
       "0.0839425545049875"
      ]
     },
     "execution_count": 22,
     "metadata": {},
     "output_type": "execute_result"
    }
   ],
   "source": [
    "cdf_positive[24]"
   ]
  },
  {
   "cell_type": "code",
   "execution_count": 20,
   "metadata": {},
   "outputs": [
    {
     "data": {
      "text/plain": [
       "3.057790110678849"
      ]
     },
     "execution_count": 20,
     "metadata": {},
     "output_type": "execute_result"
    }
   ],
   "source": [
    "bins_negative[24]"
   ]
  },
  {
   "cell_type": "code",
   "execution_count": 35,
   "metadata": {},
   "outputs": [
    {
     "data": {
      "image/png": "[encoded data removed]",
      "text/plain": [
       "<Figure size 800x600 with 1 Axes>"
      ]
     },
     "metadata": {},
     "output_type": "display_data"
    }
   ],
   "source": [
    "plt.figure(figsize=(8, 6))\n",
    "count, bins = np.histogram(df_labeled[df_labeled.label == 'Negative'].shannon_entropy, 50)\n",
    "pdf = count / sum(count)\n",
    "cdf = np.cumsum(pdf)\n",
    "plt.plot(bins[1:], cdf, label=\"CDF\")\n",
    "plt.legend()\n",
    "plt.show()"
   ]
  },
  {
   "cell_type": "code",
   "execution_count": null,
   "metadata": {},
   "outputs": [],
   "source": [
    "df_labeled[df_labeled.label == 'Positive'].shannon_entropy.describe()"
   ]
  },
  {
   "cell_type": "code",
   "execution_count": 7,
   "metadata": {},
   "outputs": [
    {
     "data": {
      "text/plain": [
       "count    772266.000000\n",
       "mean          2.430811\n",
       "std           1.280676\n",
       "min          -0.000000\n",
       "25%           1.584963\n",
       "50%           2.521641\n",
       "75%           3.378783\n",
       "max           6.370396\n",
       "Name: shannon_entropy, dtype: float64"
      ]
     },
     "execution_count": 7,
     "metadata": {},
     "output_type": "execute_result"
    }
   ],
   "source": [
    "df_labeled[df_labeled.label == 'Negative'].shannon_entropy.describe()"
   ]
  },
  {
   "cell_type": "code",
   "execution_count": 8,
   "metadata": {},
   "outputs": [
    {
     "data": {
      "text/plain": [
       "count     61554.000000\n",
       "mean      14762.864639\n",
       "std       15274.529082\n",
       "min         139.000000\n",
       "25%        5911.000000\n",
       "50%       10956.000000\n",
       "75%       20806.000000\n",
       "max      408434.000000\n",
       "Name: num_edges, dtype: float64"
      ]
     },
     "execution_count": 8,
     "metadata": {},
     "output_type": "execute_result"
    }
   ],
   "source": [
    "df_labeled[df_labeled.label == 'Positive'].num_edges.describe()"
   ]
  },
  {
   "cell_type": "code",
   "execution_count": 9,
   "metadata": {},
   "outputs": [
    {
     "data": {
      "text/plain": [
       "count    772266.000000\n",
       "mean       6542.788499\n",
       "std       10031.153772\n",
       "min           2.000000\n",
       "25%        1876.000000\n",
       "50%        3915.000000\n",
       "75%        8057.000000\n",
       "max      408434.000000\n",
       "Name: num_edges, dtype: float64"
      ]
     },
     "execution_count": 9,
     "metadata": {},
     "output_type": "execute_result"
    }
   ],
   "source": [
    "df_labeled[df_labeled.label == 'Negative'].num_edges.describe()"
   ]
  },
  {
   "cell_type": "code",
   "execution_count": 23,
   "metadata": {},
   "outputs": [
    {
     "name": "stderr",
     "output_type": "stream",
     "text": [
      "/tmp/ipykernel_453481/27867068.py:2: UserWarning: Boolean Series key will be reindexed to match DataFrame index.\n",
      "  count, bins_negative = np.histogram(df_labeled[df_labeled.num_edges < 100000][df_labeled.label == 'Negative'].num_edges, 50)\n",
      "/tmp/ipykernel_453481/27867068.py:7: UserWarning: Boolean Series key will be reindexed to match DataFrame index.\n",
      "  count, bins_positive = np.histogram(df_labeled[df_labeled.num_edges < 100000][df_labeled.label == 'Positive'].num_edges, 50)\n"
     ]
    },
    {
     "data": {
      "image/png": "[encoded data removed]",
      "text/plain": [
       "<Figure size 330x250 with 1 Axes>"
      ]
     },
     "metadata": {},
     "output_type": "display_data"
    }
   ],
   "source": [
    "# plt.figure(figsize=(8, 6))\n",
    "count, bins_negative = np.histogram(df_labeled[df_labeled.num_edges < 100000][df_labeled.label == 'Negative'].num_edges, 50)\n",
    "pdf_negative = count / sum(count)\n",
    "cdf_negative = np.cumsum(pdf_negative)\n",
    "plt.plot(bins_negative[1:], cdf_negative, label=\"Non-ATS\", color='green')\n",
    "\n",
    "count, bins_positive = np.histogram(df_labeled[df_labeled.num_edges < 100000][df_labeled.label == 'Positive'].num_edges, 50)\n",
    "pdf_positive = count / sum(count)\n",
    "cdf_positive = np.cumsum(pdf_positive)\n",
    "plt.plot(bins_positive[1:], cdf_positive, label=\"ATS\", color='red')\n",
    "plt.legend()\n",
    "plt.xlabel(\"Number of Edges\")\n",
    "plt.ylabel(\"CDF\")\n",
    "plt.savefig(\"number_of_edges_cdf.pdf\", dpi=300, bbox_inches='tight')"
   ]
  },
  {
   "cell_type": "code",
   "execution_count": 37,
   "metadata": {},
   "outputs": [
    {
     "data": {
      "text/plain": [
       "0.8485338495406092"
      ]
     },
     "execution_count": 37,
     "metadata": {},
     "output_type": "execute_result"
    }
   ],
   "source": [
    "cdf_negative[6]"
   ]
  },
  {
   "cell_type": "code",
   "execution_count": 36,
   "metadata": {},
   "outputs": [
    {
     "data": {
      "text/plain": [
       "0.5290499975595073"
      ]
     },
     "execution_count": 36,
     "metadata": {},
     "output_type": "execute_result"
    }
   ],
   "source": [
    "cdf_positive[6]"
   ]
  },
  {
   "cell_type": "code",
   "execution_count": 35,
   "metadata": {},
   "outputs": [
    {
     "data": {
      "text/plain": [
       "9915.8"
      ]
     },
     "execution_count": 35,
     "metadata": {},
     "output_type": "execute_result"
    }
   ],
   "source": [
    "bins_negative[6]"
   ]
  }
 ],
 "metadata": {
  "kernelspec": {
   "display_name": "querygraph",
   "language": "python",
   "name": "python3"
  },
  "language_info": {
   "codemirror_mode": {
    "name": "ipython",
    "version": 3
   },
   "file_extension": ".py",
   "mimetype": "text/x-python",
   "name": "python",
   "nbconvert_exporter": "python",
   "pygments_lexer": "ipython3",
   "version": "3.9.16"
  },
  "orig_nbformat": 4
 },
 "nbformat": 4,
 "nbformat_minor": 2
}
